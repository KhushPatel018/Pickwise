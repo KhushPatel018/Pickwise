{
  "cells": [
    {
      "cell_type": "code",
      "execution_count": null,
      "metadata": {
        "vscode": {
          "languageId": "plaintext"
        }
      },
      "outputs": [],
      "source": [
        "# Cultural Fit Agent Testing\n",
        "\n",
        "This notebook focuses on testing and refining the Cultural Fit Agent, which evaluates candidates against company values and culture.\n"
      ]
    },
    {
      "cell_type": "code",
      "execution_count": null,
      "metadata": {
        "vscode": {
          "languageId": "plaintext"
        }
      },
      "outputs": [],
      "source": [
        "## 1. Setup and Dependencies\n"
      ]
    },
    {
      "cell_type": "code",
      "execution_count": null,
      "metadata": {},
      "outputs": [],
      "source": [
        "from langchain_openai import ChatOpenAI\n",
        "from langchain_core.messages import HumanMessage\n",
        "import json\n",
        "from dotenv import load_dotenv\n",
        "import os\n",
        "\n",
        "# Load environment variables\n",
        "load_dotenv()\n",
        "\n",
        "# Initialize LLM\n",
        "llm = ChatOpenAI(model=\"gpt-4-turbo-preview\")\n"
      ]
    },
    {
      "cell_type": "code",
      "execution_count": null,
      "metadata": {},
      "outputs": [],
      "source": [
        "## 2. Test Data\n",
        "\n",
        "Let's create test data for company values and candidate profiles.\n"
      ]
    },
    {
      "cell_type": "code",
      "execution_count": null,
      "metadata": {},
      "outputs": [],
      "source": [
        "# Example company values and culture\n",
        "company_values = {\n",
        "    \"core_values\": [\n",
        "        {\n",
        "            \"value\": \"Innovation\",\n",
        "            \"description\": \"We push boundaries and think outside the box\"\n",
        "        },\n",
        "        {\n",
        "            \"value\": \"Collaboration\",\n",
        "            \"description\": \"We work together to achieve common goals\"\n",
        "        },\n",
        "        {\n",
        "            \"value\": \"Excellence\",\n",
        "            \"description\": \"We strive for the highest quality in everything we do\"\n",
        "        },\n",
        "        {\n",
        "            \"value\": \"Customer Focus\",\n",
        "            \"description\": \"We put our customers first in all decisions\"\n",
        "        }\n",
        "    ],\n",
        "    \"work_environment\": {\n",
        "        \"style\": \"Fast-paced and dynamic\",\n",
        "        \"communication\": \"Open and transparent\",\n",
        "        \"structure\": \"Flat hierarchy with autonomous teams\"\n",
        "    },\n",
        "    \"desired_traits\": [\n",
        "        \"Initiative taker\",\n",
        "        \"Team player\",\n",
        "        \"Problem solver\",\n",
        "        \"Continuous learner\"\n",
        "    ]\n",
        "}\n",
        "\n",
        "# Example candidate profile with strong cultural alignment\n",
        "candidate_1 = {\n",
        "    \"full_name\": \"John Doe\",\n",
        "    \"work_experience\": [\n",
        "        {\n",
        "            \"company\": \"Tech Corp\",\n",
        "            \"role\": \"Senior Software Engineer\",\n",
        "            \"duration\": \"2020-2024\",\n",
        "            \"key_achievements\": [\n",
        "                \"Led cross-functional team initiatives\",\n",
        "                \"Implemented innovative solutions\",\n",
        "                \"Mentored junior developers\",\n",
        "                \"Drove customer-centric features\"\n",
        "            ],\n",
        "            \"impact\": \"Improved team collaboration and product quality\"\n",
        "        }\n",
        "    ],\n",
        "    \"achievements\": [\n",
        "        \"Started coding meetup community\",\n",
        "        \"Regular conference speaker\",\n",
        "        \"Open source contributor\"\n",
        "    ],\n",
        "    \"interests\": [\n",
        "        \"Technology trends\",\n",
        "        \"Team building\",\n",
        "        \"Continuous learning\"\n",
        "    ]\n",
        "}\n",
        "\n",
        "# Example candidate profile with weaker cultural alignment\n",
        "candidate_2 = {\n",
        "    \"full_name\": \"Jane Smith\",\n",
        "    \"work_experience\": [\n",
        "        {\n",
        "            \"company\": \"StartUp Inc\",\n",
        "            \"role\": \"Junior Developer\",\n",
        "            \"duration\": \"2022-2024\",\n",
        "            \"key_achievements\": [\n",
        "                \"Completed assigned tasks\",\n",
        "                \"Fixed bugs in codebase\",\n",
        "                \"Attended team meetings\"\n",
        "            ],\n",
        "            \"impact\": \"Maintained existing systems\"\n",
        "        }\n",
        "    ],\n",
        "    \"achievements\": [\n",
        "        \"Completed online courses\",\n",
        "        \"Personal coding projects\"\n",
        "    ],\n",
        "    \"interests\": [\n",
        "        \"Programming\",\n",
        "        \"Gaming\"\n",
        "    ]\n",
        "}\n"
      ]
    },
    {
      "cell_type": "code",
      "execution_count": null,
      "metadata": {},
      "outputs": [],
      "source": [
        "## 3. Cultural Fit Agent Implementation\n"
      ]
    },
    {
      "cell_type": "code",
      "execution_count": null,
      "metadata": {},
      "outputs": [],
      "source": [
        "def analyze_cultural_fit(candidate: dict, company_values: dict) -> dict:\n",
        "    \"\"\"Analyze how well a candidate aligns with company values and culture.\"\"\"\n",
        "    \n",
        "    prompt = f\"\"\"Analyze how well the candidate aligns with the company's values and culture.\n",
        "    \n",
        "    Company Values and Culture:\n",
        "    {json.dumps(company_values, indent=2)}\n",
        "    \n",
        "    Candidate Profile:\n",
        "    {json.dumps(candidate, indent=2)}\n",
        "    \n",
        "    Please provide a detailed analysis in the following format:\n",
        "    1. Overall Cultural Fit Score (0-10)\n",
        "    2. Value Alignment Analysis (for each core value)\n",
        "    3. Work Environment Fit Analysis\n",
        "    4. Behavioral Indicators\n",
        "    5. Key Strengths in Cultural Fit\n",
        "    6. Potential Cultural Challenges\n",
        "    7. Recommendations\n",
        "    \n",
        "    Format your response as a JSON object with these keys.\n",
        "    \"\"\"\n",
        "    \n",
        "    messages = [HumanMessage(content=prompt)]\n",
        "    response = llm.invoke(messages)\n",
        "    \n",
        "    try:\n",
        "        # Try to parse the response as JSON\n",
        "        analysis = json.loads(response.content)\n",
        "    except json.JSONDecodeError:\n",
        "        # If JSON parsing fails, return the raw response\n",
        "        analysis = {\"raw_response\": response.content}\n",
        "    \n",
        "    return analysis\n"
      ]
    },
    {
      "cell_type": "code",
      "execution_count": null,
      "metadata": {},
      "outputs": [],
      "source": [
        "## 4. Test the Agent\n"
      ]
    },
    {
      "cell_type": "code",
      "execution_count": null,
      "metadata": {},
      "outputs": [],
      "source": [
        "# Test with first candidate\n",
        "analysis_1 = analyze_cultural_fit(candidate_1, company_values)\n",
        "print(\"Candidate 1 Cultural Fit Analysis:\")\n",
        "print(json.dumps(analysis_1, indent=2))\n",
        "\n",
        "# Test with second candidate\n",
        "analysis_2 = analyze_cultural_fit(candidate_2, company_values)\n",
        "print(\"\\nCandidate 2 Cultural Fit Analysis:\")\n",
        "print(json.dumps(analysis_2, indent=2))\n"
      ]
    },
    {
      "cell_type": "code",
      "execution_count": null,
      "metadata": {},
      "outputs": [],
      "source": [
        "## 5. Visualization and Analysis\n"
      ]
    },
    {
      "cell_type": "code",
      "execution_count": null,
      "metadata": {},
      "outputs": [],
      "source": [
        "import matplotlib.pyplot as plt\n",
        "import seaborn as sns\n",
        "import pandas as pd\n",
        "\n",
        "def plot_value_alignment(analysis_1: dict, analysis_2: dict):\n",
        "    \"\"\"Plot value alignment comparison between candidates.\"\"\"\n",
        "    plt.figure(figsize=(12, 6))\n",
        "    \n",
        "    # Extract value alignment scores\n",
        "    values = company_values['core_values']\n",
        "    value_names = [v['value'] for v in values]\n",
        "    \n",
        "    data = {\n",
        "        'Value': value_names * 2,\n",
        "        'Score': [\n",
        "            analysis_1['value_alignment'].get(value, 0) \n",
        "            for value in value_names\n",
        "        ] + [\n",
        "            analysis_2['value_alignment'].get(value, 0) \n",
        "            for value in value_names\n",
        "        ],\n",
        "        'Candidate': ['Candidate 1'] * len(value_names) + ['Candidate 2'] * len(value_names)\n",
        "    }\n",
        "    \n",
        "    df = pd.DataFrame(data)\n",
        "    \n",
        "    sns.barplot(data=df, x='Value', y='Score', hue='Candidate')\n",
        "    plt.title('Value Alignment Comparison')\n",
        "    plt.xticks(rotation=45)\n",
        "    plt.ylim(0, 10)\n",
        "    plt.tight_layout()\n",
        "    plt.show()\n",
        "\n",
        "# Plot the value alignment comparison\n",
        "plot_value_alignment(analysis_1, analysis_2)\n"
      ]
    }
  ],
  "metadata": {
    "language_info": {
      "name": "python"
    }
  },
  "nbformat": 4,
  "nbformat_minor": 2
}
