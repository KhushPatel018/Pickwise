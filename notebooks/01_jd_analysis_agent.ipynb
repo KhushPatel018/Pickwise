{
  "cells": [
    {
      "cell_type": "code",
      "execution_count": null,
      "metadata": {
        "vscode": {
          "languageId": "plaintext"
        }
      },
      "outputs": [],
      "source": [
        "# JD Analysis Agent Testing\n",
        "\n",
        "This notebook focuses on testing and refining the Job Description Analysis Agent, which evaluates resumes against job descriptions.\n"
      ]
    },
    {
      "cell_type": "code",
      "execution_count": null,
      "metadata": {
        "vscode": {
          "languageId": "plaintext"
        }
      },
      "outputs": [],
      "source": [
        "## 1. Setup and Dependencies\n"
      ]
    },
    {
      "cell_type": "code",
      "execution_count": null,
      "metadata": {},
      "outputs": [],
      "source": [
        "from langchain_openai import ChatOpenAI\n",
        "from langchain_core.messages import HumanMessage\n",
        "import json\n",
        "from dotenv import load_dotenv\n",
        "import os\n",
        "\n",
        "# Load environment variables\n",
        "load_dotenv()\n",
        "\n",
        "# Initialize LLM\n",
        "llm = ChatOpenAI(model=\"gpt-4-turbo-preview\")\n"
      ]
    },
    {
      "cell_type": "code",
      "execution_count": null,
      "metadata": {},
      "outputs": [],
      "source": [
        "## 2. Test Data\n",
        "\n",
        "Let's create some test resumes and job descriptions to evaluate.\n"
      ]
    },
    {
      "cell_type": "code",
      "execution_count": null,
      "metadata": {},
      "outputs": [],
      "source": [
        "# Example resume for a software engineer\n",
        "test_resume_1 = {\n",
        "    \"full_name\": \"John Doe\",\n",
        "    \"contact_details\": {\n",
        "        \"email\": \"john@example.com\",\n",
        "        \"phone\": \"123-456-7890\",\n",
        "        \"linkedin\": \"linkedin.com/in/johndoe\"\n",
        "    },\n",
        "    \"education\": [\n",
        "        {\n",
        "            \"degree\": \"BS Computer Science\",\n",
        "            \"institution\": \"MIT\",\n",
        "            \"year\": \"2020\"\n",
        "        }\n",
        "    ],\n",
        "    \"work_experience\": [\n",
        "        {\n",
        "            \"company\": \"Tech Corp\",\n",
        "            \"role\": \"Senior Software Engineer\",\n",
        "            \"duration\": \"2020-2024\",\n",
        "            \"key_achievements\": [\n",
        "                \"Led development of microservices architecture\",\n",
        "                \"Reduced system latency by 40%\",\n",
        "                \"Mentored junior developers\"\n",
        "            ]\n",
        "        }\n",
        "    ],\n",
        "    \"skills\": [\n",
        "        \"Python\",\n",
        "        \"JavaScript\",\n",
        "        \"React\",\n",
        "        \"Node.js\",\n",
        "        \"AWS\",\n",
        "        \"Docker\"\n",
        "    ]\n",
        "}\n",
        "\n",
        "# Example job description for a senior software engineer\n",
        "test_jd_1 = {\n",
        "    \"title\": \"Senior Software Engineer\",\n",
        "    \"required_skills\": [\n",
        "        \"Python\",\n",
        "        \"JavaScript\",\n",
        "        \"Cloud platforms (AWS/GCP)\",\n",
        "        \"Microservices architecture\"\n",
        "    ],\n",
        "    \"preferred_skills\": [\n",
        "        \"React\",\n",
        "        \"Node.js\",\n",
        "        \"Docker\",\n",
        "        \"Kubernetes\"\n",
        "    ],\n",
        "    \"experience\": \"5+ years in software development\",\n",
        "    \"education\": \"BS in Computer Science or related field\"\n",
        "}\n"
      ]
    },
    {
      "cell_type": "code",
      "execution_count": null,
      "metadata": {},
      "outputs": [],
      "source": [
        "## 3. JD Analysis Agent Implementation\n"
      ]
    },
    {
      "cell_type": "code",
      "execution_count": null,
      "metadata": {},
      "outputs": [],
      "source": [
        "def analyze_jd_match(resume: dict, job_description: dict) -> dict:\n",
        "    \"\"\"Analyze how well a resume matches a job description.\"\"\"\n",
        "    \n",
        "    prompt = f\"\"\"Analyze how well the following resume matches the job description.\n",
        "    \n",
        "    Resume:\n",
        "    {json.dumps(resume, indent=2)}\n",
        "    \n",
        "    Job Description:\n",
        "    {json.dumps(job_description, indent=2)}\n",
        "    \n",
        "    Please provide a detailed analysis in the following format:\n",
        "    1. Overall Match Score (0-10)\n",
        "    2. Required Skills Match Analysis\n",
        "    3. Preferred Skills Match Analysis\n",
        "    4. Experience Match Analysis\n",
        "    5. Education Match Analysis\n",
        "    6. Key Strengths\n",
        "    7. Areas for Improvement\n",
        "    \n",
        "    Format your response as a JSON object with these keys.\n",
        "    \"\"\"\n",
        "    \n",
        "    messages = [HumanMessage(content=prompt)]\n",
        "    response = llm.invoke(messages)\n",
        "    \n",
        "    try:\n",
        "        # Try to parse the response as JSON\n",
        "        analysis = json.loads(response.content)\n",
        "    except json.JSONDecodeError:\n",
        "        # If JSON parsing fails, return the raw response\n",
        "        analysis = {\"raw_response\": response.content}\n",
        "    \n",
        "    return analysis\n"
      ]
    },
    {
      "cell_type": "code",
      "execution_count": null,
      "metadata": {},
      "outputs": [],
      "source": [
        "## 4. Test the Agent\n"
      ]
    },
    {
      "cell_type": "code",
      "execution_count": null,
      "metadata": {},
      "outputs": [],
      "source": [
        "# Test with our first example\n",
        "analysis_result = analyze_jd_match(test_resume_1, test_jd_1)\n",
        "print(json.dumps(analysis_result, indent=2))\n"
      ]
    },
    {
      "cell_type": "code",
      "execution_count": null,
      "metadata": {},
      "outputs": [],
      "source": [
        "## 5. Test with Different Scenarios\n"
      ]
    },
    {
      "cell_type": "code",
      "execution_count": null,
      "metadata": {},
      "outputs": [],
      "source": [
        "# Test with a less qualified candidate\n",
        "test_resume_2 = {\n",
        "    \"full_name\": \"Jane Smith\",\n",
        "    \"education\": [\n",
        "        {\n",
        "            \"degree\": \"BS Information Technology\",\n",
        "            \"institution\": \"State University\",\n",
        "            \"year\": \"2022\"\n",
        "        }\n",
        "    ],\n",
        "    \"work_experience\": [\n",
        "        {\n",
        "            \"company\": \"StartUp Inc\",\n",
        "            \"role\": \"Junior Developer\",\n",
        "            \"duration\": \"2022-2024\",\n",
        "            \"key_achievements\": [\n",
        "                \"Developed frontend features\",\n",
        "                \"Fixed bugs in production code\"\n",
        "            ]\n",
        "        }\n",
        "    ],\n",
        "    \"skills\": [\n",
        "        \"JavaScript\",\n",
        "        \"React\",\n",
        "        \"HTML/CSS\"\n",
        "    ]\n",
        "}\n",
        "\n",
        "# Test with second example\n",
        "analysis_result_2 = analyze_jd_match(test_resume_2, test_jd_1)\n",
        "print(json.dumps(analysis_result_2, indent=2))\n"
      ]
    },
    {
      "cell_type": "code",
      "execution_count": null,
      "metadata": {},
      "outputs": [],
      "source": [
        "## 6. Visualization of Results\n"
      ]
    },
    {
      "cell_type": "code",
      "execution_count": null,
      "metadata": {},
      "outputs": [],
      "source": [
        "import matplotlib.pyplot as plt\n",
        "import seaborn as sns\n",
        "\n",
        "def plot_comparison(results1, results2):\n",
        "    \"\"\"Plot a comparison of two analysis results.\"\"\"\n",
        "    plt.figure(figsize=(12, 6))\n",
        "    \n",
        "    scores = {\n",
        "        'Candidate 1': results1.get('overall_match_score', 0),\n",
        "        'Candidate 2': results2.get('overall_match_score', 0)\n",
        "    }\n",
        "    \n",
        "    sns.barplot(x=list(scores.keys()), y=list(scores.values()))\n",
        "    plt.title('JD Match Score Comparison')\n",
        "    plt.ylim(0, 10)\n",
        "    plt.show()\n",
        "\n",
        "# Plot comparison\n",
        "plot_comparison(analysis_result, analysis_result_2)\n"
      ]
    },
    {
      "cell_type": "code",
      "execution_count": null,
      "metadata": {},
      "outputs": [],
      "source": [
        "## 7. Refine the Analysis\n",
        "\n",
        "Based on the test results, we can refine our analysis approach.\n"
      ]
    },
    {
      "cell_type": "code",
      "execution_count": null,
      "metadata": {},
      "outputs": [],
      "source": [
        "def get_detailed_skill_match(resume: dict, jd: dict) -> dict:\n",
        "    \"\"\"Get a detailed breakdown of skill matches.\"\"\"\n",
        "    resume_skills = set(resume.get('skills', []))\n",
        "    required_skills = set(jd.get('required_skills', []))\n",
        "    preferred_skills = set(jd.get('preferred_skills', []))\n",
        "    \n",
        "    required_matches = resume_skills.intersection(required_skills)\n",
        "    preferred_matches = resume_skills.intersection(preferred_skills)\n",
        "    \n",
        "    return {\n",
        "        'required_skills_matched': list(required_matches),\n",
        "        'required_skills_missing': list(required_skills - resume_skills),\n",
        "        'preferred_skills_matched': list(preferred_matches),\n",
        "        'preferred_skills_missing': list(preferred_skills - resume_skills),\n",
        "        'additional_skills': list(resume_skills - (required_skills | preferred_skills))\n",
        "    }\n",
        "\n",
        "# Test the detailed skill match analysis\n",
        "skill_analysis_1 = get_detailed_skill_match(test_resume_1, test_jd_1)\n",
        "print(\"Candidate 1 Skill Analysis:\")\n",
        "print(json.dumps(skill_analysis_1, indent=2))\n",
        "\n",
        "skill_analysis_2 = get_detailed_skill_match(test_resume_2, test_jd_1)\n",
        "print(\"\\nCandidate 2 Skill Analysis:\")\n",
        "print(json.dumps(skill_analysis_2, indent=2))\n"
      ]
    }
  ],
  "metadata": {
    "language_info": {
      "name": "python"
    }
  },
  "nbformat": 4,
  "nbformat_minor": 2
}
